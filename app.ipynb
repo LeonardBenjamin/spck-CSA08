{
 "cells": [
  {
   "cell_type": "code",
   "execution_count": null,
   "metadata": {
    "vscode": {
     "languageId": "plaintext"
    }
   },
   "outputs": [],
   "source": [
    "import pandas as pd\n",
    "\n",
    "# Đọc dữ liệu từ tệp CSV\n",
    "data = pd.read_excel(\"gia_nha.xlsx\")\n",
    "\n",
    "# Xem 5 dòng đầu tiên của dữ liệu\n",
    "print(data.head())"
   ]
  }
 ],
 "metadata": {
  "language_info": {
   "name": "python"
  }
 },
 "nbformat": 4,
 "nbformat_minor": 2
}
